{
 "cells": [
  {
   "cell_type": "markdown",
   "metadata": {},
   "source": [
    "### Data Preprocessing"
   ]
  },
  {
   "cell_type": "code",
   "execution_count": 34,
   "metadata": {},
   "outputs": [],
   "source": [
    "import numpy as np\n",
    "import pandas as pd\n",
    "import pickle\n",
    "from sklearn.metrics import accuracy_score\n",
    "from sklearn import metrics"
   ]
  },
  {
   "cell_type": "code",
   "execution_count": 35,
   "metadata": {},
   "outputs": [],
   "source": [
    "df = pd.read_csv('data/Telco-Customer-Churn.csv')\n",
    "df['TotalCharges'] = df['TotalCharges'].replace(\" \", 0).astype('float32')"
   ]
  },
  {
   "cell_type": "code",
   "execution_count": 36,
   "metadata": {},
   "outputs": [
    {
     "data": {
      "text/plain": [
       "Index(['gender', 'Partner', 'Dependents', 'PhoneService', 'MultipleLines',\n",
       "       'InternetService', 'OnlineSecurity', 'OnlineBackup', 'DeviceProtection',\n",
       "       'TechSupport', 'StreamingTV', 'StreamingMovies', 'Contract',\n",
       "       'PaperlessBilling', 'PaymentMethod'],\n",
       "      dtype='object')"
      ]
     },
     "execution_count": 36,
     "metadata": {},
     "output_type": "execute_result"
    }
   ],
   "source": [
    "cat_features = df.drop(['customerID','TotalCharges', 'MonthlyCharges', 'SeniorCitizen', 'tenure', 'Churn'],axis=1).columns\n",
    "cat_features"
   ]
  },
  {
   "cell_type": "code",
   "execution_count": 37,
   "metadata": {},
   "outputs": [
    {
     "data": {
      "text/html": [
       "<div>\n",
       "<style scoped>\n",
       "    .dataframe tbody tr th:only-of-type {\n",
       "        vertical-align: middle;\n",
       "    }\n",
       "\n",
       "    .dataframe tbody tr th {\n",
       "        vertical-align: top;\n",
       "    }\n",
       "\n",
       "    .dataframe thead th {\n",
       "        text-align: right;\n",
       "    }\n",
       "</style>\n",
       "<table border=\"1\" class=\"dataframe\">\n",
       "  <thead>\n",
       "    <tr style=\"text-align: right;\">\n",
       "      <th></th>\n",
       "      <th>gender</th>\n",
       "      <th>Partner</th>\n",
       "      <th>Dependents</th>\n",
       "      <th>PhoneService</th>\n",
       "      <th>MultipleLines</th>\n",
       "      <th>InternetService</th>\n",
       "      <th>OnlineSecurity</th>\n",
       "      <th>OnlineBackup</th>\n",
       "      <th>DeviceProtection</th>\n",
       "      <th>TechSupport</th>\n",
       "      <th>StreamingTV</th>\n",
       "      <th>StreamingMovies</th>\n",
       "      <th>Contract</th>\n",
       "      <th>PaperlessBilling</th>\n",
       "      <th>PaymentMethod</th>\n",
       "    </tr>\n",
       "  </thead>\n",
       "  <tbody>\n",
       "    <tr>\n",
       "      <th>0</th>\n",
       "      <td>Female</td>\n",
       "      <td>Yes</td>\n",
       "      <td>No</td>\n",
       "      <td>No</td>\n",
       "      <td>No phone service</td>\n",
       "      <td>DSL</td>\n",
       "      <td>No</td>\n",
       "      <td>Yes</td>\n",
       "      <td>No</td>\n",
       "      <td>No</td>\n",
       "      <td>No</td>\n",
       "      <td>No</td>\n",
       "      <td>Month-to-month</td>\n",
       "      <td>Yes</td>\n",
       "      <td>Electronic check</td>\n",
       "    </tr>\n",
       "    <tr>\n",
       "      <th>1</th>\n",
       "      <td>Male</td>\n",
       "      <td>No</td>\n",
       "      <td>No</td>\n",
       "      <td>Yes</td>\n",
       "      <td>No</td>\n",
       "      <td>DSL</td>\n",
       "      <td>Yes</td>\n",
       "      <td>No</td>\n",
       "      <td>Yes</td>\n",
       "      <td>No</td>\n",
       "      <td>No</td>\n",
       "      <td>No</td>\n",
       "      <td>One year</td>\n",
       "      <td>No</td>\n",
       "      <td>Mailed check</td>\n",
       "    </tr>\n",
       "    <tr>\n",
       "      <th>2</th>\n",
       "      <td>Male</td>\n",
       "      <td>No</td>\n",
       "      <td>No</td>\n",
       "      <td>Yes</td>\n",
       "      <td>No</td>\n",
       "      <td>DSL</td>\n",
       "      <td>Yes</td>\n",
       "      <td>Yes</td>\n",
       "      <td>No</td>\n",
       "      <td>No</td>\n",
       "      <td>No</td>\n",
       "      <td>No</td>\n",
       "      <td>Month-to-month</td>\n",
       "      <td>Yes</td>\n",
       "      <td>Mailed check</td>\n",
       "    </tr>\n",
       "    <tr>\n",
       "      <th>3</th>\n",
       "      <td>Male</td>\n",
       "      <td>No</td>\n",
       "      <td>No</td>\n",
       "      <td>No</td>\n",
       "      <td>No phone service</td>\n",
       "      <td>DSL</td>\n",
       "      <td>Yes</td>\n",
       "      <td>No</td>\n",
       "      <td>Yes</td>\n",
       "      <td>Yes</td>\n",
       "      <td>No</td>\n",
       "      <td>No</td>\n",
       "      <td>One year</td>\n",
       "      <td>No</td>\n",
       "      <td>Bank transfer (automatic)</td>\n",
       "    </tr>\n",
       "    <tr>\n",
       "      <th>4</th>\n",
       "      <td>Female</td>\n",
       "      <td>No</td>\n",
       "      <td>No</td>\n",
       "      <td>Yes</td>\n",
       "      <td>No</td>\n",
       "      <td>Fiber optic</td>\n",
       "      <td>No</td>\n",
       "      <td>No</td>\n",
       "      <td>No</td>\n",
       "      <td>No</td>\n",
       "      <td>No</td>\n",
       "      <td>No</td>\n",
       "      <td>Month-to-month</td>\n",
       "      <td>Yes</td>\n",
       "      <td>Electronic check</td>\n",
       "    </tr>\n",
       "  </tbody>\n",
       "</table>\n",
       "</div>"
      ],
      "text/plain": [
       "   gender Partner Dependents PhoneService     MultipleLines InternetService  \\\n",
       "0  Female     Yes         No           No  No phone service             DSL   \n",
       "1    Male      No         No          Yes                No             DSL   \n",
       "2    Male      No         No          Yes                No             DSL   \n",
       "3    Male      No         No           No  No phone service             DSL   \n",
       "4  Female      No         No          Yes                No     Fiber optic   \n",
       "\n",
       "  OnlineSecurity OnlineBackup DeviceProtection TechSupport StreamingTV  \\\n",
       "0             No          Yes               No          No          No   \n",
       "1            Yes           No              Yes          No          No   \n",
       "2            Yes          Yes               No          No          No   \n",
       "3            Yes           No              Yes         Yes          No   \n",
       "4             No           No               No          No          No   \n",
       "\n",
       "  StreamingMovies        Contract PaperlessBilling              PaymentMethod  \n",
       "0              No  Month-to-month              Yes           Electronic check  \n",
       "1              No        One year               No               Mailed check  \n",
       "2              No  Month-to-month              Yes               Mailed check  \n",
       "3              No        One year               No  Bank transfer (automatic)  \n",
       "4              No  Month-to-month              Yes           Electronic check  "
      ]
     },
     "execution_count": 37,
     "metadata": {},
     "output_type": "execute_result"
    }
   ],
   "source": [
    "df[cat_features].head()"
   ]
  },
  {
   "cell_type": "code",
   "execution_count": 38,
   "metadata": {},
   "outputs": [
    {
     "data": {
      "text/plain": [
       "OneHotEncoder(sparse=False)"
      ]
     },
     "execution_count": 38,
     "metadata": {},
     "output_type": "execute_result"
    }
   ],
   "source": [
    "from sklearn.preprocessing import OneHotEncoder\n",
    "ohe = OneHotEncoder(sparse=False)\n",
    "ohe.fit(df[cat_features])"
   ]
  },
  {
   "cell_type": "code",
   "execution_count": 39,
   "metadata": {},
   "outputs": [
    {
     "name": "stderr",
     "output_type": "stream",
     "text": [
      "C:\\python3.8\\lib\\site-packages\\sklearn\\utils\\deprecation.py:87: FutureWarning: Function get_feature_names is deprecated; get_feature_names is deprecated in 1.0 and will be removed in 1.2. Please use get_feature_names_out instead.\n",
      "  warnings.warn(msg, category=FutureWarning)\n"
     ]
    }
   ],
   "source": [
    "dff = ohe.transform(df[cat_features])\n",
    "dff = pd.DataFrame(dff, columns=ohe.get_feature_names())\n",
    "dff = pd.concat([dff, df[['SeniorCitizen', 'MonthlyCharges', 'TotalCharges', 'tenure']]], axis=1)"
   ]
  },
  {
   "cell_type": "code",
   "execution_count": 40,
   "metadata": {},
   "outputs": [
    {
     "data": {
      "text/html": [
       "<div>\n",
       "<style scoped>\n",
       "    .dataframe tbody tr th:only-of-type {\n",
       "        vertical-align: middle;\n",
       "    }\n",
       "\n",
       "    .dataframe tbody tr th {\n",
       "        vertical-align: top;\n",
       "    }\n",
       "\n",
       "    .dataframe thead th {\n",
       "        text-align: right;\n",
       "    }\n",
       "</style>\n",
       "<table border=\"1\" class=\"dataframe\">\n",
       "  <thead>\n",
       "    <tr style=\"text-align: right;\">\n",
       "      <th></th>\n",
       "      <th>x0_Female</th>\n",
       "      <th>x0_Male</th>\n",
       "      <th>x1_No</th>\n",
       "      <th>x1_Yes</th>\n",
       "      <th>x2_No</th>\n",
       "      <th>x2_Yes</th>\n",
       "      <th>x3_No</th>\n",
       "      <th>x3_Yes</th>\n",
       "      <th>x4_No</th>\n",
       "      <th>x4_No phone service</th>\n",
       "      <th>...</th>\n",
       "      <th>x13_No</th>\n",
       "      <th>x13_Yes</th>\n",
       "      <th>x14_Bank transfer (automatic)</th>\n",
       "      <th>x14_Credit card (automatic)</th>\n",
       "      <th>x14_Electronic check</th>\n",
       "      <th>x14_Mailed check</th>\n",
       "      <th>SeniorCitizen</th>\n",
       "      <th>MonthlyCharges</th>\n",
       "      <th>TotalCharges</th>\n",
       "      <th>tenure</th>\n",
       "    </tr>\n",
       "  </thead>\n",
       "  <tbody>\n",
       "    <tr>\n",
       "      <th>0</th>\n",
       "      <td>1.0</td>\n",
       "      <td>0.0</td>\n",
       "      <td>0.0</td>\n",
       "      <td>1.0</td>\n",
       "      <td>1.0</td>\n",
       "      <td>0.0</td>\n",
       "      <td>1.0</td>\n",
       "      <td>0.0</td>\n",
       "      <td>0.0</td>\n",
       "      <td>1.0</td>\n",
       "      <td>...</td>\n",
       "      <td>0.0</td>\n",
       "      <td>1.0</td>\n",
       "      <td>0.0</td>\n",
       "      <td>0.0</td>\n",
       "      <td>1.0</td>\n",
       "      <td>0.0</td>\n",
       "      <td>0</td>\n",
       "      <td>29.85</td>\n",
       "      <td>29.850000</td>\n",
       "      <td>1</td>\n",
       "    </tr>\n",
       "    <tr>\n",
       "      <th>1</th>\n",
       "      <td>0.0</td>\n",
       "      <td>1.0</td>\n",
       "      <td>1.0</td>\n",
       "      <td>0.0</td>\n",
       "      <td>1.0</td>\n",
       "      <td>0.0</td>\n",
       "      <td>0.0</td>\n",
       "      <td>1.0</td>\n",
       "      <td>1.0</td>\n",
       "      <td>0.0</td>\n",
       "      <td>...</td>\n",
       "      <td>1.0</td>\n",
       "      <td>0.0</td>\n",
       "      <td>0.0</td>\n",
       "      <td>0.0</td>\n",
       "      <td>0.0</td>\n",
       "      <td>1.0</td>\n",
       "      <td>0</td>\n",
       "      <td>56.95</td>\n",
       "      <td>1889.500000</td>\n",
       "      <td>34</td>\n",
       "    </tr>\n",
       "    <tr>\n",
       "      <th>2</th>\n",
       "      <td>0.0</td>\n",
       "      <td>1.0</td>\n",
       "      <td>1.0</td>\n",
       "      <td>0.0</td>\n",
       "      <td>1.0</td>\n",
       "      <td>0.0</td>\n",
       "      <td>0.0</td>\n",
       "      <td>1.0</td>\n",
       "      <td>1.0</td>\n",
       "      <td>0.0</td>\n",
       "      <td>...</td>\n",
       "      <td>0.0</td>\n",
       "      <td>1.0</td>\n",
       "      <td>0.0</td>\n",
       "      <td>0.0</td>\n",
       "      <td>0.0</td>\n",
       "      <td>1.0</td>\n",
       "      <td>0</td>\n",
       "      <td>53.85</td>\n",
       "      <td>108.150002</td>\n",
       "      <td>2</td>\n",
       "    </tr>\n",
       "    <tr>\n",
       "      <th>3</th>\n",
       "      <td>0.0</td>\n",
       "      <td>1.0</td>\n",
       "      <td>1.0</td>\n",
       "      <td>0.0</td>\n",
       "      <td>1.0</td>\n",
       "      <td>0.0</td>\n",
       "      <td>1.0</td>\n",
       "      <td>0.0</td>\n",
       "      <td>0.0</td>\n",
       "      <td>1.0</td>\n",
       "      <td>...</td>\n",
       "      <td>1.0</td>\n",
       "      <td>0.0</td>\n",
       "      <td>1.0</td>\n",
       "      <td>0.0</td>\n",
       "      <td>0.0</td>\n",
       "      <td>0.0</td>\n",
       "      <td>0</td>\n",
       "      <td>42.30</td>\n",
       "      <td>1840.750000</td>\n",
       "      <td>45</td>\n",
       "    </tr>\n",
       "    <tr>\n",
       "      <th>4</th>\n",
       "      <td>1.0</td>\n",
       "      <td>0.0</td>\n",
       "      <td>1.0</td>\n",
       "      <td>0.0</td>\n",
       "      <td>1.0</td>\n",
       "      <td>0.0</td>\n",
       "      <td>0.0</td>\n",
       "      <td>1.0</td>\n",
       "      <td>1.0</td>\n",
       "      <td>0.0</td>\n",
       "      <td>...</td>\n",
       "      <td>0.0</td>\n",
       "      <td>1.0</td>\n",
       "      <td>0.0</td>\n",
       "      <td>0.0</td>\n",
       "      <td>1.0</td>\n",
       "      <td>0.0</td>\n",
       "      <td>0</td>\n",
       "      <td>70.70</td>\n",
       "      <td>151.649994</td>\n",
       "      <td>2</td>\n",
       "    </tr>\n",
       "  </tbody>\n",
       "</table>\n",
       "<p>5 rows × 45 columns</p>\n",
       "</div>"
      ],
      "text/plain": [
       "   x0_Female  x0_Male  x1_No  x1_Yes  x2_No  x2_Yes  x3_No  x3_Yes  x4_No  \\\n",
       "0        1.0      0.0    0.0     1.0    1.0     0.0    1.0     0.0    0.0   \n",
       "1        0.0      1.0    1.0     0.0    1.0     0.0    0.0     1.0    1.0   \n",
       "2        0.0      1.0    1.0     0.0    1.0     0.0    0.0     1.0    1.0   \n",
       "3        0.0      1.0    1.0     0.0    1.0     0.0    1.0     0.0    0.0   \n",
       "4        1.0      0.0    1.0     0.0    1.0     0.0    0.0     1.0    1.0   \n",
       "\n",
       "   x4_No phone service  ...  x13_No  x13_Yes  x14_Bank transfer (automatic)  \\\n",
       "0                  1.0  ...     0.0      1.0                            0.0   \n",
       "1                  0.0  ...     1.0      0.0                            0.0   \n",
       "2                  0.0  ...     0.0      1.0                            0.0   \n",
       "3                  1.0  ...     1.0      0.0                            1.0   \n",
       "4                  0.0  ...     0.0      1.0                            0.0   \n",
       "\n",
       "   x14_Credit card (automatic)  x14_Electronic check  x14_Mailed check  \\\n",
       "0                          0.0                   1.0               0.0   \n",
       "1                          0.0                   0.0               1.0   \n",
       "2                          0.0                   0.0               1.0   \n",
       "3                          0.0                   0.0               0.0   \n",
       "4                          0.0                   1.0               0.0   \n",
       "\n",
       "   SeniorCitizen  MonthlyCharges  TotalCharges  tenure  \n",
       "0              0           29.85     29.850000       1  \n",
       "1              0           56.95   1889.500000      34  \n",
       "2              0           53.85    108.150002       2  \n",
       "3              0           42.30   1840.750000      45  \n",
       "4              0           70.70    151.649994       2  \n",
       "\n",
       "[5 rows x 45 columns]"
      ]
     },
     "execution_count": 40,
     "metadata": {},
     "output_type": "execute_result"
    }
   ],
   "source": [
    "dff.head()"
   ]
  },
  {
   "cell_type": "code",
   "execution_count": 41,
   "metadata": {},
   "outputs": [],
   "source": [
    "bin_dict = {'No':0, 'Yes':1}\n",
    "df.Churn = df.Churn.map(bin_dict)"
   ]
  },
  {
   "cell_type": "markdown",
   "metadata": {},
   "source": [
    "### Modeling"
   ]
  },
  {
   "cell_type": "code",
   "execution_count": 42,
   "metadata": {},
   "outputs": [],
   "source": [
    "from sklearn.model_selection import train_test_split\n",
    "\n",
    "X = dff.values\n",
    "y = df.Churn\n",
    "\n",
    "X_train, X_test, y_train, y_test = train_test_split(X,y)"
   ]
  },
  {
   "cell_type": "code",
   "execution_count": 43,
   "metadata": {},
   "outputs": [
    {
     "name": "stdout",
     "output_type": "stream",
     "text": [
      "(7043, 21)\n",
      "\n",
      "\n",
      "X_train:  (5282, 45)\n",
      "y_train:  (5282,)\n",
      "X_test:  (1761, 45)\n",
      "y_test:  (1761,)\n"
     ]
    }
   ],
   "source": [
    "print(df.shape)\n",
    "print(\"\\n\")\n",
    "print(\"X_train: \", X_train.shape)\n",
    "print(\"y_train: \", y_train.shape)\n",
    "print(\"X_test: \", X_test.shape)\n",
    "print(\"y_test: \", y_test.shape)"
   ]
  },
  {
   "cell_type": "markdown",
   "metadata": {},
   "source": [
    "### SVM"
   ]
  },
  {
   "cell_type": "code",
   "execution_count": 44,
   "metadata": {},
   "outputs": [],
   "source": [
    "# Fitting classifier to the Training set\n",
    "from sklearn.preprocessing import StandardScaler\n",
    "from sklearn.pipeline import Pipeline\n",
    "from sklearn.model_selection import GridSearchCV\n",
    "from sklearn.svm import SVC\n",
    "\n",
    "classifier_svm = SVC()\n",
    "steps = [\n",
    "    ('scalar', StandardScaler()),\n",
    "    ('model', SVC())\n",
    "]\n",
    "svm_pipe = Pipeline(steps)"
   ]
  },
  {
   "cell_type": "code",
   "execution_count": 45,
   "metadata": {},
   "outputs": [
    {
     "name": "stdout",
     "output_type": "stream",
     "text": [
      "Fitting 6 folds for each of 1 candidates, totalling 6 fits\n",
      "CPU times: total: 14.8 s\n",
      "Wall time: 37 s\n"
     ]
    }
   ],
   "source": [
    "%%time\n",
    "parameters = { 'model__kernel' : ['linear'],\n",
    "               'model__C' : [10],\n",
    "               'model__gamma' : ['scale'],\n",
    "               'model__random_state' : [42],\n",
    "               'model__degree' : [1]\n",
    "}\n",
    "classifier_svm = GridSearchCV(svm_pipe, parameters, scoring='accuracy', verbose=10, cv=6, n_jobs=-1)\n",
    "classifier_svm = classifier_svm.fit(X_train, y_train.ravel())"
   ]
  },
  {
   "cell_type": "code",
   "execution_count": 46,
   "metadata": {},
   "outputs": [
    {
     "name": "stdout",
     "output_type": "stream",
     "text": [
      "Training set:  0.80367285119273\n",
      "Test set:  0.7921635434412265\n"
     ]
    }
   ],
   "source": [
    "y_pred_svm_train = classifier_svm.predict(X_train)\n",
    "accuracy_svm_train = accuracy_score(y_train, y_pred_svm_train)\n",
    "print(\"Training set: \", accuracy_svm_train)\n",
    "\n",
    "y_pred_svm_test = classifier_svm.predict(X_test)\n",
    "accuracy_svm_test = accuracy_score(y_test, y_pred_svm_test)\n",
    "print(\"Test set: \", accuracy_svm_test)"
   ]
  },
  {
   "cell_type": "code",
   "execution_count": 47,
   "metadata": {},
   "outputs": [],
   "source": [
    "filename = 'data/svm_model.sav'\n",
    "pickle.dump(classifier_svm, open(filename, 'wb'))\n"
   ]
  },
  {
   "cell_type": "markdown",
   "metadata": {},
   "source": [
    "### Logistic Regression"
   ]
  },
  {
   "cell_type": "code",
   "execution_count": 48,
   "metadata": {},
   "outputs": [
    {
     "name": "stdout",
     "output_type": "stream",
     "text": [
      "Test set:  0.797274275979557\n"
     ]
    },
    {
     "name": "stderr",
     "output_type": "stream",
     "text": [
      "C:\\python3.8\\lib\\site-packages\\sklearn\\linear_model\\_logistic.py:814: ConvergenceWarning: lbfgs failed to converge (status=1):\n",
      "STOP: TOTAL NO. of ITERATIONS REACHED LIMIT.\n",
      "\n",
      "Increase the number of iterations (max_iter) or scale the data as shown in:\n",
      "    https://scikit-learn.org/stable/modules/preprocessing.html\n",
      "Please also refer to the documentation for alternative solver options:\n",
      "    https://scikit-learn.org/stable/modules/linear_model.html#logistic-regression\n",
      "  n_iter_i = _check_optimize_result(\n"
     ]
    }
   ],
   "source": [
    "from sklearn.linear_model import LogisticRegression\n",
    "model = LogisticRegression()\n",
    "result = model.fit(X_train, y_train)\n",
    "prediction_test = model.predict(X_test)\n",
    "accuracy_LR_test = accuracy_score(y_test, prediction_test)\n",
    "print(\"Test set: \", accuracy_LR_test)"
   ]
  },
  {
   "cell_type": "markdown",
   "metadata": {},
   "source": [
    "### Random forest"
   ]
  },
  {
   "cell_type": "code",
   "execution_count": 49,
   "metadata": {},
   "outputs": [
    {
     "name": "stdout",
     "output_type": "stream",
     "text": [
      "0.7847813742191937\n"
     ]
    }
   ],
   "source": [
    "from sklearn.ensemble import RandomForestClassifier\n",
    "model_rf = RandomForestClassifier(n_estimators=1000 , oob_score = True, n_jobs = -1,\n",
    "                                  random_state =50, max_features = \"auto\",\n",
    "                                  max_leaf_nodes = 30)\n",
    "model_rf.fit(X_train, y_train)\n",
    "\n",
    "# Make predictions\n",
    "prediction_test = model_rf.predict(X_test)\n",
    "print (metrics.accuracy_score(y_test, prediction_test))"
   ]
  },
  {
   "cell_type": "markdown",
   "metadata": {},
   "source": [
    "### ADABoost"
   ]
  },
  {
   "cell_type": "code",
   "execution_count": 50,
   "metadata": {},
   "outputs": [
    {
     "data": {
      "text/plain": [
       "0.7950028392958546"
      ]
     },
     "execution_count": 50,
     "metadata": {},
     "output_type": "execute_result"
    }
   ],
   "source": [
    "from sklearn.ensemble import AdaBoostClassifier\n",
    "model = AdaBoostClassifier()\n",
    "model.fit(X_train,y_train)\n",
    "preds = model.predict(X_test)\n",
    "metrics.accuracy_score(y_test, preds)"
   ]
  },
  {
   "cell_type": "markdown",
   "metadata": {},
   "source": [
    "### XGBoost"
   ]
  },
  {
   "cell_type": "code",
   "execution_count": 51,
   "metadata": {},
   "outputs": [],
   "source": [
    "import xgboost as xgb\n",
    "\n",
    "steps = [\n",
    "    ('scalar', StandardScaler()),\n",
    "    ('model', xgb.XGBClassifier())\n",
    "]\n",
    "xgb_pipe = Pipeline(steps)"
   ]
  },
  {
   "cell_type": "code",
   "execution_count": 52,
   "metadata": {},
   "outputs": [
    {
     "name": "stdout",
     "output_type": "stream",
     "text": [
      "Fitting 6 folds for each of 1 candidates, totalling 6 fits\n"
     ]
    },
    {
     "name": "stderr",
     "output_type": "stream",
     "text": [
      "C:\\python3.8\\lib\\site-packages\\xgboost\\sklearn.py:1224: UserWarning: The use of label encoder in XGBClassifier is deprecated and will be removed in a future release. To remove this warning, do the following: 1) Pass option use_label_encoder=False when constructing XGBClassifier object; and 2) Encode your labels (y) as integers starting with 0, i.e. 0, 1, 2, ..., [num_class - 1].\n",
      "  warnings.warn(label_encoder_deprecation_msg, UserWarning)\n"
     ]
    },
    {
     "name": "stdout",
     "output_type": "stream",
     "text": [
      "[00:06:51] WARNING: C:/Users/Administrator/workspace/xgboost-win64_release_1.5.1/src/learner.cc:1115: Starting in XGBoost 1.3.0, the default evaluation metric used with the objective 'binary:logistic' was changed from 'error' to 'logloss'. Explicitly set eval_metric if you'd like to restore the old behavior.\n",
      "CPU times: total: 4.5 s\n",
      "Wall time: 14.3 s\n"
     ]
    }
   ],
   "source": [
    "%%time\n",
    "parameters = { 'model__min_child_weight': [10],\n",
    "        'model__gamma': [5],\n",
    "        'model__subsample': [0.6],\n",
    "        'model__colsample_bytree': [0.6],\n",
    "        'model__max_depth': [3],\n",
    "        'model__random_state' : [42]\n",
    "}\n",
    "classifier_xgb = GridSearchCV(xgb_pipe, parameters, scoring='accuracy', verbose=10, cv=6, n_jobs=-1)\n",
    "classifier_xgb = classifier_xgb.fit(X_train, y_train.ravel())"
   ]
  },
  {
   "cell_type": "code",
   "execution_count": 53,
   "metadata": {},
   "outputs": [
    {
     "name": "stdout",
     "output_type": "stream",
     "text": [
      "Training set:  0.8252555850056796\n",
      "Test set:  0.7984099943214082\n"
     ]
    }
   ],
   "source": [
    "y_pred_xgb_train = classifier_xgb.predict(X_train)\n",
    "accuracy_xgb_train = accuracy_score(y_train, y_pred_xgb_train)\n",
    "print(\"Training set: \", accuracy_xgb_train)\n",
    "\n",
    "y_pred_xgb_test = classifier_xgb.predict(X_test)\n",
    "accuracy_xgb_test = accuracy_score(y_test, y_pred_xgb_test)\n",
    "print(\"Test set: \", accuracy_xgb_test)"
   ]
  },
  {
   "cell_type": "code",
   "execution_count": 54,
   "metadata": {},
   "outputs": [],
   "source": [
    "filename = 'data/xgb_model.sav'\n",
    "pickle.dump(classifier_xgb, open(filename, 'wb'))"
   ]
  },
  {
   "cell_type": "markdown",
   "metadata": {},
   "source": [
    "### Artificial Neural Network"
   ]
  },
  {
   "cell_type": "code",
   "execution_count": 57,
   "metadata": {},
   "outputs": [
    {
     "name": "stdout",
     "output_type": "stream",
     "text": [
      "Epoch 1/50\n",
      "331/331 [==============================] - 2s 3ms/step - loss: 10.8425 - accuracy: 0.2653\n",
      "Epoch 2/50\n",
      "331/331 [==============================] - 1s 2ms/step - loss: 10.6499 - accuracy: 0.2707A: 0s - loss: 10.6464 - accuracy: 0.270\n",
      "Epoch 3/50\n",
      "331/331 [==============================] - 1s 2ms/step - loss: 10.6926 - accuracy: 0.2673\n",
      "Epoch 4/50\n",
      "331/331 [==============================] - 1s 2ms/step - loss: 10.6021 - accuracy: 0.2643\n",
      "Epoch 5/50\n",
      "331/331 [==============================] - 1s 3ms/step - loss: 10.4655 - accuracy: 0.2630\n",
      "Epoch 6/50\n",
      "331/331 [==============================] - 1s 2ms/step - loss: 7.9658 - accuracy: 0.3514\n",
      "Epoch 7/50\n",
      "331/331 [==============================] - 1s 3ms/step - loss: 0.5998 - accuracy: 0.7324\n",
      "Epoch 8/50\n",
      "331/331 [==============================] - 1s 2ms/step - loss: 0.5682 - accuracy: 0.7377\n",
      "Epoch 9/50\n",
      "331/331 [==============================] - 1s 2ms/step - loss: 0.5654 - accuracy: 0.7371\n",
      "Epoch 10/50\n",
      "331/331 [==============================] - 1s 3ms/step - loss: 0.5688 - accuracy: 0.7327\n",
      "Epoch 11/50\n",
      "331/331 [==============================] - 1s 2ms/step - loss: 0.5679 - accuracy: 0.7345\n",
      "Epoch 12/50\n",
      "331/331 [==============================] - 1s 2ms/step - loss: 0.5809 - accuracy: 0.7254\n",
      "Epoch 13/50\n",
      "331/331 [==============================] - 1s 3ms/step - loss: 0.5612 - accuracy: 0.7389\n",
      "Epoch 14/50\n",
      "331/331 [==============================] - ETA: 0s - loss: 0.5605 - accuracy: 0.74 - 1s 3ms/step - loss: 0.5606 - accuracy: 0.7410\n",
      "Epoch 15/50\n",
      "331/331 [==============================] - 1s 4ms/step - loss: 0.5520 - accuracy: 0.7410\n",
      "Epoch 16/50\n",
      "331/331 [==============================] - 1s 3ms/step - loss: 0.5493 - accuracy: 0.7502\n",
      "Epoch 17/50\n",
      "331/331 [==============================] - 1s 3ms/step - loss: 0.5760 - accuracy: 0.7412: 0s - loss: 0.5649 \n",
      "Epoch 18/50\n",
      "331/331 [==============================] - 1s 3ms/step - loss: 0.5913 - accuracy: 0.7431\n",
      "Epoch 19/50\n",
      "331/331 [==============================] - 1s 3ms/step - loss: 0.5877 - accuracy: 0.7426\n",
      "Epoch 20/50\n",
      "331/331 [==============================] - 1s 3ms/step - loss: 0.5843 - accuracy: 0.7421\n",
      "Epoch 21/50\n",
      "331/331 [==============================] - 1s 2ms/step - loss: 0.5959 - accuracy: 0.7220\n",
      "Epoch 22/50\n",
      "331/331 [==============================] - 1s 2ms/step - loss: 0.5795 - accuracy: 0.7409: 0s - l\n",
      "Epoch 23/50\n",
      "331/331 [==============================] - 1s 2ms/step - loss: 0.5765 - accuracy: 0.7421\n",
      "Epoch 24/50\n",
      "331/331 [==============================] - 1s 2ms/step - loss: 0.5837 - accuracy: 0.7316\n",
      "Epoch 25/50\n",
      "331/331 [==============================] - 1s 2ms/step - loss: 0.5834 - accuracy: 0.7302\n",
      "Epoch 26/50\n",
      "331/331 [==============================] - 1s 3ms/step - loss: 0.5776 - accuracy: 0.7353\n",
      "Epoch 27/50\n",
      "331/331 [==============================] - 1s 3ms/step - loss: 0.5755 - accuracy: 0.7348\n",
      "Epoch 28/50\n",
      "331/331 [==============================] - 1s 2ms/step - loss: 0.5616 - accuracy: 0.7450\n",
      "Epoch 29/50\n",
      "331/331 [==============================] - 1s 2ms/step - loss: 0.5638 - accuracy: 0.7392\n",
      "Epoch 30/50\n",
      "331/331 [==============================] - 1s 2ms/step - loss: 0.5432 - accuracy: 0.7471: 0s - loss: 0.5504 \n",
      "Epoch 31/50\n",
      "331/331 [==============================] - 1s 3ms/step - loss: 0.4971 - accuracy: 0.7919\n",
      "Epoch 32/50\n",
      "331/331 [==============================] - 1s 2ms/step - loss: 0.4957 - accuracy: 0.7907\n",
      "Epoch 33/50\n",
      "331/331 [==============================] - 1s 2ms/step - loss: 0.4770 - accuracy: 0.7901\n",
      "Epoch 34/50\n",
      "331/331 [==============================] - 1s 2ms/step - loss: 0.4587 - accuracy: 0.8040\n",
      "Epoch 35/50\n",
      "331/331 [==============================] - 1s 2ms/step - loss: 0.4740 - accuracy: 0.7889\n",
      "Epoch 36/50\n",
      "331/331 [==============================] - 1s 2ms/step - loss: 0.4903 - accuracy: 0.7810\n",
      "Epoch 37/50\n",
      "331/331 [==============================] - 1s 3ms/step - loss: 0.4684 - accuracy: 0.7906\n",
      "Epoch 38/50\n",
      "331/331 [==============================] - 1s 2ms/step - loss: 0.4566 - accuracy: 0.7969\n",
      "Epoch 39/50\n",
      "331/331 [==============================] - 1s 2ms/step - loss: 0.7594 - accuracy: 0.7368\n",
      "Epoch 40/50\n",
      "331/331 [==============================] - 1s 2ms/step - loss: 0.4531 - accuracy: 0.8050\n",
      "Epoch 41/50\n",
      "331/331 [==============================] - 1s 2ms/step - loss: 0.4431 - accuracy: 0.7901\n",
      "Epoch 42/50\n",
      "331/331 [==============================] - 1s 3ms/step - loss: 0.4508 - accuracy: 0.7938: 0s - los\n",
      "Epoch 43/50\n",
      "331/331 [==============================] - 1s 2ms/step - loss: 0.4486 - accuracy: 0.7977\n",
      "Epoch 44/50\n",
      "331/331 [==============================] - 1s 2ms/step - loss: 0.4413 - accuracy: 0.8071\n",
      "Epoch 45/50\n",
      "331/331 [==============================] - 1s 2ms/step - loss: 0.4573 - accuracy: 0.7903\n",
      "Epoch 46/50\n",
      "331/331 [==============================] - 1s 2ms/step - loss: 0.4404 - accuracy: 0.8058\n",
      "Epoch 47/50\n",
      "331/331 [==============================] - 1s 2ms/step - loss: 0.4376 - accuracy: 0.7991\n",
      "Epoch 48/50\n",
      "331/331 [==============================] - 1s 2ms/step - loss: 0.4614 - accuracy: 0.7802\n",
      "Epoch 49/50\n",
      "331/331 [==============================] - 1s 2ms/step - loss: 0.4533 - accuracy: 0.7820\n",
      "Epoch 50/50\n",
      "331/331 [==============================] - 1s 2ms/step - loss: 0.4599 - accuracy: 0.7933\n"
     ]
    },
    {
     "data": {
      "text/plain": [
       "<tensorflow.python.keras.callbacks.History at 0x260a8b79df0>"
      ]
     },
     "execution_count": 57,
     "metadata": {},
     "output_type": "execute_result"
    }
   ],
   "source": [
    "import tensorflow as tf\n",
    "def leaky_relu(x):\n",
    "    return tf.nn.leaky_relu(x, alpha=0.01)\n",
    "ann=tf.keras.models.Sequential()\n",
    "ann.add(tf.keras.layers.Dense(units=6,activation='relu'))\n",
    "ann.add(tf.keras.layers.Dense(units=4,activation=leaky_relu))\n",
    "ann.add(tf.keras.layers.Dense(units=1,activation=leaky_relu))   \n",
    "ann.compile(optimizer='Adam',loss='binary_crossentropy',metrics=['accuracy'])\n",
    "ann.fit(X_train,y_train,batch_size=16,epochs=50)"
   ]
  },
  {
   "cell_type": "code",
   "execution_count": 58,
   "metadata": {},
   "outputs": [
    {
     "name": "stdout",
     "output_type": "stream",
     "text": [
      "              precision    recall  f1-score   support\n",
      "\n",
      "           0       0.82      0.91      0.86      1273\n",
      "           1       0.67      0.49      0.56       488\n",
      "\n",
      "    accuracy                           0.79      1761\n",
      "   macro avg       0.75      0.70      0.71      1761\n",
      "weighted avg       0.78      0.79      0.78      1761\n",
      "\n"
     ]
    }
   ],
   "source": [
    "from sklearn.metrics import classification_report\n",
    "y_pred=ann.predict(X_test)\n",
    "y_pred=(y_pred>0.5)\n",
    "print(classification_report(y_test, y_pred))"
   ]
  }
 ],
 "metadata": {
  "kernelspec": {
   "display_name": "Python 3",
   "language": "python",
   "name": "python3"
  },
  "language_info": {
   "codemirror_mode": {
    "name": "ipython",
    "version": 3
   },
   "file_extension": ".py",
   "mimetype": "text/x-python",
   "name": "python",
   "nbconvert_exporter": "python",
   "pygments_lexer": "ipython3",
   "version": "3.8.10"
  }
 },
 "nbformat": 4,
 "nbformat_minor": 4
}
